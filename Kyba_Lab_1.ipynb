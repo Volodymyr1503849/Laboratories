{
 "cells": [
  {
   "cell_type": "markdown",
   "metadata": {},
   "source": [
    "# Lab 1 - Python introduction\n"
   ]
  },
  {
   "cell_type": "markdown",
   "metadata": {},
   "source": [
    "### Exercise 0 - Example\n",
    "Assign the number 31 to a new variable, q. Write an expression that raises q to the 4th power "
   ]
  },
  {
   "cell_type": "code",
   "execution_count": 67,
   "metadata": {},
   "outputs": [
    {
     "data": {
      "text/plain": [
       "923521"
      ]
     },
     "execution_count": 67,
     "metadata": {},
     "output_type": "execute_result"
    }
   ],
   "source": [
    "# Your answer here\n",
    "q = 31\n",
    "q**4"
   ]
  },
  {
   "cell_type": "markdown",
   "metadata": {},
   "source": [
    "### Exercise 1\n",
    "Create arbitrary list, tuple and dictionary and print them"
   ]
  },
  {
   "cell_type": "code",
   "execution_count": 2,
   "metadata": {},
   "outputs": [
    {
     "name": "stdout",
     "output_type": "stream",
     "text": [
      "[1, 2, 3, 4, 5, 6]\n",
      "(1, 2, 3, 4, 5, 6)\n",
      "{'1': 1, '2': 2, '3': 3}\n"
     ]
    }
   ],
   "source": [
    "# Your answer here\n",
    "a = [1, 2, 3, 4, 5, 6]\n",
    "b = tuple(a)\n",
    "c = {'1':1, '2':2, '3':3}\n",
    "print(a)\n",
    "print(b)\n",
    "print(c)"
   ]
  },
  {
   "cell_type": "markdown",
   "metadata": {},
   "source": [
    "### Exercise 2\n",
    "Print the next elements of array s: 10th, from 10 to 20, all elements more than 0 "
   ]
  },
  {
   "cell_type": "code",
   "execution_count": 4,
   "metadata": {},
   "outputs": [
    {
     "name": "stdout",
     "output_type": "stream",
     "text": [
      "-0.031042495052905066\n",
      "[-0.0310425  -0.13518587 -0.85662742 -0.20824765 -0.48229776  0.20666196\n",
      " -1.93618433 -0.35510315 -0.66835849 -2.0881254 ]\n",
      "[0.7370414132437392, 0.6798028672699118, 0.3277585453342504, 0.853763313555775, 0.43240100005463844, 0.009755558860940514, 0.7160995750830685, 1.690571458265283, 0.2066619645331652, 1.333428345834782, 1.4257435899819324, 1.488208932149078, 0.7630837610110334, 0.9597517195614769, 0.07561208057637378, 0.5853077212242018, 0.8193428915775053, 0.11263965673203659, 0.9426874782094121, 1.0879931845361233, 0.1499505449874098, 0.97493608655464, 1.2297154594186308, 1.5415241392635588, 0.053075233016224764, 0.975131182710625, 0.018119531253848544, 0.016667537345299202, 1.3111322407091162, 0.09337693883925503, 1.0751412930131854, 1.3177011999764132, 0.6973810538472494, 0.24760799987032933, 1.4009161352588513, 0.08008233080677404, 0.42234029564155223, 0.08622336400242607, 1.142263184309027, 0.2657931232516165, 0.12256378029225337, 0.12645691735600476, 1.9168428872272774, 0.034387326255636654, 0.7521147768543985, 1.1178773784767264, 0.10747068526846608, 0.019203841622004777, 1.3903223788821175, 0.19262642096001514]\n"
     ]
    }
   ],
   "source": [
    "import numpy as np\n",
    "s = np.random.normal(0,1,100)\n",
    "\n",
    "# Your answer here\n",
    "print(s[10])\n",
    "print(s[10:20])\n",
    "result = [i for i in s if i>0]\n",
    "print(result)"
   ]
  },
  {
   "cell_type": "markdown",
   "metadata": {},
   "source": [
    "### Exercise 3\n",
    "Make a function `pow` that raised base `number` to a fixed power `power`. If `power >= 50` print message \"power is too big\" and return `-1`"
   ]
  },
  {
   "cell_type": "code",
   "execution_count": 10,
   "metadata": {},
   "outputs": [
    {
     "name": "stdout",
     "output_type": "stream",
     "text": [
      "10000000000000000000000000000000000000000\n",
      "100000000000000000000\n"
     ]
    }
   ],
   "source": [
    "# Your answer here\n",
    "def pow(number, power):\n",
    "    if power>=50:\n",
    "        print(\"power is too big\")\n",
    "        return -1\n",
    "    else:\n",
    "        number = number**power\n",
    "        return number\n",
    "print(pow(100,20))\n",
    "print(pow(10,20))"
   ]
  },
  {
   "cell_type": "markdown",
   "metadata": {},
   "source": [
    "### Exercise 4\n",
    "Make a function `above(x,n)` which returns all elements `x > n`. By default `x = 10`. Use numpy arrays"
   ]
  },
  {
   "cell_type": "code",
   "execution_count": 12,
   "metadata": {},
   "outputs": [
    {
     "name": "stdout",
     "output_type": "stream",
     "text": [
      "[]\n"
     ]
    }
   ],
   "source": [
    "import numpy as np\n",
    "# Your answer here\n",
    "def above(n, x = 10):\n",
    "    result = []\n",
    "    for i in x:\n",
    "        if i > n:\n",
    "            result.append(i)\n",
    "        else:\n",
    "            continue\n",
    "    return result\n",
    "b = [1,2,3,4,5]\n",
    "print(above(5, b))"
   ]
  },
  {
   "cell_type": "markdown",
   "metadata": {},
   "source": [
    "### Exercise 5\n",
    "Write a function `my_ifelse(x, exp, n)` which test array `x` with expression `exp` to number `n`. For instance, `my_ifelse(x,'>=',10)` returns all elements of array `x` which greater or equal 10. `exp` can be `<`, `>`, `<=`, `>=`, `==`. If `exp` dont match these expression array `x` is retured"
   ]
  },
  {
   "cell_type": "code",
   "execution_count": 6,
   "metadata": {},
   "outputs": [],
   "source": [
    "import numpy as np\n",
    "# Your answer here\n",
    "def my_ifelse(x, exp, n):\n",
    "    if exp == '==':\n",
    "        x = [i for i in x if i == n]\n",
    "        return x\n",
    "    elif exp == '<':\n",
    "        x = [i for i in x if i < n]\n",
    "        return x\n",
    "    elif exp == '>':\n",
    "        x = [i for i in x if i > n]\n",
    "        return x\n",
    "    elif exp == '<=':\n",
    "        x = [i for i in x if i <= n]\n",
    "        return x\n",
    "    elif exp == '>=':\n",
    "        x = [i for i in x if i >= n]\n",
    "        return x\n",
    "    else:\n",
    "        return x\n",
    "x = [1, 2, 3, 4, 5]\n",
    "print(my_ifelse(x,'==', 3))"
   ]
  },
  {
   "cell_type": "markdown",
   "metadata": {},
   "source": [
    "### Exercise 6\n",
    "Make a function called `counter` that takes a string input_string and returns a dictionary of letter counts."
   ]
  },
  {
   "cell_type": "code",
   "execution_count": 7,
   "metadata": {},
   "outputs": [
    {
     "name": "stdout",
     "output_type": "stream",
     "text": [
      "{'M': 1, 'a': 9, 'k': 2, 'e': 7, ' ': 16, 'f': 2, 'u': 5, 'n': 10, 'c': 5, 't': 13, 'i': 6, 'o': 5, 'l': 3, 'd': 3, 'r': 7, 'h': 1, 's': 5, 'g': 2, 'p': 1, '_': 1, 'y': 1, '.': 1}\n"
     ]
    }
   ],
   "source": [
    "# Your answer here\n",
    "def counter(input_string):\n",
    "    c = {}\n",
    "    for l in input_string:\n",
    "        if l in c:\n",
    "                c[l] += 1\n",
    "        else:\n",
    "            c[l] = 1\n",
    "    return c\n",
    "print(counter('Make a function called counter that takes a string input_string and returns a dictionary of letter counts.'))"
   ]
  },
  {
   "cell_type": "markdown",
   "metadata": {},
   "source": [
    "### Exercise 7\n",
    "From the function `counter` make function `counter_sorted` with second boolean argumens `reverse` that returns sorted letter counts. Order depends of the `reverse` argument. By default `reverse = False`"
   ]
  },
  {
   "cell_type": "code",
   "execution_count": 8,
   "metadata": {},
   "outputs": [
    {
     "name": "stdout",
     "output_type": "stream",
     "text": [
      "{'E': 1, 'x': 1, 'r': 1, 'c': 1, 'i': 1, 's': 1, ' ': 1, '7': 1, 'e': 2}\n",
      "{'e': 2, 'E': 1, 'x': 1, 'r': 1, 'c': 1, 'i': 1, 's': 1, ' ': 1, '7': 1}\n"
     ]
    }
   ],
   "source": [
    "# Your answer here\n",
    "def counter_sorted (input_string, b=0):\n",
    "    c = {}\n",
    "    for l in input_string:\n",
    "        if l in c:\n",
    "                c[l] += 1\n",
    "        else:\n",
    "            c[l] = 1\n",
    "    return dict(sorted(c.items(), key=lambda x: x[1], reverse=b))\n",
    "print(counter_sorted('Exercise 7', 0))\n",
    "print(counter_sorted('Exercise 7', 1))"
   ]
  },
  {
   "cell_type": "code",
   "execution_count": null,
   "metadata": {},
   "outputs": [],
   "source": []
  }
 ],
 "metadata": {
  "kernelspec": {
   "display_name": "Python 3",
   "language": "python",
   "name": "python3"
  },
  "language_info": {
   "codemirror_mode": {
    "name": "ipython",
    "version": 3
   },
   "file_extension": ".py",
   "mimetype": "text/x-python",
   "name": "python",
   "nbconvert_exporter": "python",
   "pygments_lexer": "ipython3",
   "version": "3.8.1"
  }
 },
 "nbformat": 4,
 "nbformat_minor": 2
}
